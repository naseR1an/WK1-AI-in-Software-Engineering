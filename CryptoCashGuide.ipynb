{
 "cells": [
  {
   "cell_type": "code",
   "execution_count": 8,
   "id": "8f044291-ddbf-4b90-98f2-43d332cefa8b",
   "metadata": {},
   "outputs": [],
   "source": [
    "# Dataset of cryptocurrencies \n",
    "crypto_db = {  \n",
    "    \"Bitcoin\": {  \n",
    "        \"price_trend\": \"rising\",  \n",
    "        \"market_cap\": \"high\",  \n",
    "        \"energy_use\": \"high\",  \n",
    "        \"sustainability_score\": 3/10  \n",
    "    },  \n",
    "    \"Ethereum\": {  \n",
    "        \"price_trend\": \"stable\",  \n",
    "        \"market_cap\": \"high\",  \n",
    "        \"energy_use\": \"medium\",  \n",
    "        \"sustainability_score\": 6/10  \n",
    "    },  \n",
    "    \"Cardano\": {  \n",
    "        \"price_trend\": \"rising\",  \n",
    "        \"market_cap\": \"medium\",  \n",
    "        \"energy_use\": \"low\",  \n",
    "        \"sustainability_score\": 8/10  \n",
    "    }  \n",
    "}"
   ]
  },
  {
   "cell_type": "code",
   "execution_count": 9,
   "id": "1bf07c94-fc8e-4570-8427-1e24488b27a8",
   "metadata": {},
   "outputs": [
    {
     "name": "stdout",
     "output_type": "stream",
     "text": [
      "👋Hey there! I'm CryptocashGuide- your friendly and eco-conscious cypto buddy! 🚀🤑\n",
      "Ask me things like:\n",
      "- Which crypto is trending up?\n",
      "- Which crypto is sustainable?\n",
      "- Which crypto has long-term growth potential📈?\n",
      "-(Type 'exit' to quit)\n",
      "\n"
     ]
    },
    {
     "name": "stdin",
     "output_type": "stream",
     "text": [
      "You:  which crypto is trending up?\n"
     ]
    },
    {
     "name": "stdout",
     "output_type": "stream",
     "text": [
      "CryptoCashGuide:  These cryptos are trending up: Bitcoin, Cardano 🚀\n"
     ]
    },
    {
     "name": "stdin",
     "output_type": "stream",
     "text": [
      "You:  which crypto is sustainable\n"
     ]
    },
    {
     "name": "stdout",
     "output_type": "stream",
     "text": [
      "CryptoCashGuide: Invest in Cardano! 🌱 It’s eco-friendly with a sustainability score of 8.0/10 and has long-term potential!\n"
     ]
    },
    {
     "name": "stdin",
     "output_type": "stream",
     "text": [
      "You:   Which crypto should I buy for long-term growth potential?  \n"
     ]
    },
    {
     "name": "stdout",
     "output_type": "stream",
     "text": [
      "CryptoCashGuide:  💰For long-term gains, go with Bitcoin - it has a higher market cap and rising trend: Bitcoin 📈\n"
     ]
    },
    {
     "name": "stdin",
     "output_type": "stream",
     "text": [
      "You:  advice\n"
     ]
    },
    {
     "name": "stdout",
     "output_type": "stream",
     "text": [
      "CryptoCashGuide: I'm here to help! Ask me about crypto trends, sustainability, or long-term growth potential! 💬\n"
     ]
    },
    {
     "name": "stdin",
     "output_type": "stream",
     "text": [
      "You:  quit\n"
     ]
    },
    {
     "name": "stdout",
     "output_type": "stream",
     "text": [
      "CryptoCashGuide: Always ready to help😇. Trade responsibly!\n",
      "\n",
      "⚠️ Disclaimer: Cryptocurrency is risky. This bot is for educational use only. Always do your own research before investing! ⚠️\n"
     ]
    }
   ],
   "source": [
    "print(\"👋Hey there! I'm CryptocashGuide- your friendly and eco-conscious cypto buddy! 🚀🤑\")\n",
    "print(\"Ask me things like:\\n- Which crypto is trending up 🚀?\\n- Which crypto is sustainable 🌱?\\n- Which crypto has long-term growth potential📈?\\n-(Type 'exit' to quit)\\n\")\n",
    "\n",
    "\n",
    "# Decision Logic for crypto advice\n",
    "# Rule based Response Function\n",
    "def get_response(user_input):\n",
    "    user_input = user_input.lower()\n",
    "\n",
    "    if \"trending\" in user_input or \"rising\" in user_input:\n",
    "        trending = [coin for coin in crypto_db if crypto_db[coin][\"price_trend\"] == \"rising\"]\n",
    "        return f\" These cryptos are trending up: {', '.join(trending)} 🚀\"\n",
    "    elif \"sustainable\" in user_input or \"eco\" in user_input:\n",
    "        best = max(crypto_db, key=lambda x: crypto_db[x][\"sustainability_score\"])\n",
    "        score = crypto_db[best][\"sustainability_score\"] * 10\n",
    "        return f\"Invest in {best}! 🌱 It’s eco-friendly with a sustainability score of {score}/10 and has long-term potential!\"\n",
    "    elif \"long-term\" in user_input or \"profit\" in user_input or \"growth\" in user_input:\n",
    "        best = [coin for coin in crypto_db if crypto_db[coin][\"price_trend\"] == \"rising\" and crypto_db[coin][\"market_cap\"] == \"high\"]\n",
    "        if best:\n",
    "            return f\" 💰For long-term gains, go with {best[0]} - it has a higher market cap and rising trend: {', '.join(best)} 📈\"\n",
    "        else:\n",
    "            return \"No long-term growth options found😔.Nothing looks promising for long-term gains right now. Try asking about other trends! 📊\"\n",
    "    elif \"help\" in user_input or \"advice\" in user_input:\n",
    "        return \"I'm here to help! Ask me about crypto trends, sustainability, or long-term growth potential! 💬\"\n",
    "    else:\n",
    "        return \"🤔 I'm not sure about that. Can you ask about trends, sustainability, or long-term growth? Or type 'help' for more options!\"\n",
    "\n",
    "while True:\n",
    "    user_input = input(\"You: \")\n",
    "    if user_input.lower() in [\"exit\", \"quit\", \"bye\"]:\n",
    "        print(\"CryptoCashGuide: Always ready to help😇. Trade responsibly!\")\n",
    "        break\n",
    "    response = get_response(user_input)\n",
    "    print(f\"CryptoCashGuide: {response}\")\n",
    "print(\"\\n⚠️ Disclaimer: Cryptocurrency is risky. This bot is for educational use only. Always do your own research before investing! ⚠️\")"
   ]
  },
  {
   "cell_type": "code",
   "execution_count": null,
   "id": "035bab3a-f6bb-4367-a1b7-f226ff525b09",
   "metadata": {},
   "outputs": [],
   "source": []
  }
 ],
 "metadata": {
  "kernelspec": {
   "display_name": "anaconda-panel-2023.05-py310",
   "language": "python",
   "name": "conda-env-anaconda-panel-2023.05-py310-py"
  },
  "language_info": {
   "codemirror_mode": {
    "name": "ipython",
    "version": 3
   },
   "file_extension": ".py",
   "mimetype": "text/x-python",
   "name": "python",
   "nbconvert_exporter": "python",
   "pygments_lexer": "ipython3",
   "version": "3.11.5"
  }
 },
 "nbformat": 4,
 "nbformat_minor": 5
}
